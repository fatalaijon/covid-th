{
 "nbformat": 4,
 "nbformat_minor": 0,
 "metadata": {
  "language_info": {
   "codemirror_mode": {
    "name": "ipython",
    "version": 3
   },
   "file_extension": ".py",
   "mimetype": "text/x-python",
   "name": "python",
   "nbconvert_exporter": "python",
   "pygments_lexer": "ipython3",
   "version": "3.6.9"
  },
  "orig_nbformat": 2,
  "kernelspec": {
   "name": "python3",
   "display_name": "Python 3",
   "language": "python"
  },
  "colab": {
   "name": "covid.ipynb",
   "provenance": [],
   "collapsed_sections": [],
   "toc_visible": true
  }
 },
 "cells": [
  {
   "cell_type": "markdown",
   "metadata": {
    "id": "_vLbcae2k_IL"
   },
   "source": [
    "## Thailand Covid-19 Data\n",
    "\n",
    "This notebook shows Covid-19 case data from the Thailand Department of Desease Control.\n",
    "The URL to download all daily data for cases and outcomes is\n",
    "<https://covid19.th-stat.com/api/open/timeline>.\n",
    "The README for this repository contains a description of the data and URLs for other data.  \n",
    "\n",
    "### Download the Covid Dataset (As Needed) \n",
    "\n",
    "Run this cell only if you do not have up-to-date data or want a different dataset.  \n",
    "The Thai data is updated once per day.\n",
    "File is saved in a subdirectory named `data`.\n"
   ]
  },
  {
   "cell_type": "code",
   "metadata": {
    "colab": {
     "base_uri": "https://localhost:8080/"
    },
    "id": "a3WWdgonk_IW",
    "outputId": "a8df4a67-b4c9-4ab3-a2ef-151371585957"
   },
   "source": [
    "# Use wget (standard Unix/Linux util) to download data file\n",
    "data_url = \"https://covid19.th-stat.com/api/open/timeline\"\n",
    "! [ -d data ] || mkdir data\n",
    "# -N use timestamps for conditional get, -nv non-verbose, -t retries\n",
    "! cd data && wget -nv -N -t 5  $data_url"
   ],
   "execution_count": 1,
   "outputs": [
    {
     "output_type": "stream",
     "name": "stdout",
     "text": [
      "2021-05-12 15:06:39 URL:https://covid19.th-stat.com/api/open/timeline [79148] -> \"timeline\" [1]\n"
     ]
    }
   ]
  },
  {
   "cell_type": "markdown",
   "metadata": {
    "id": "DDeG7fA9k_IY"
   },
   "source": [
    "### Create DataFrame from downloaded dataset\n",
    "\n",
    "Print the structure and a few records.\n",
    "\n",
    "Since the current Covid data is most interesting, select a recent subset of the data."
   ]
  },
  {
   "cell_type": "code",
   "metadata": {
    "colab": {
     "base_uri": "https://localhost:8080/"
    },
    "id": "91bITC3Dk_IY",
    "outputId": "5bebf1e4-0081-448f-c6ed-32b85aafc97c"
   },
   "source": [
    "import pandas as pd\n",
    "import matplotlib\n",
    "import matplotlib.pyplot as plt\n",
    "import matplotlib.dates\n",
    "import json\n",
    "#filename = name of covid data file in JSON format\n",
    "# data/timeline or timeline.json = large file of all data since 1/1/2020\n",
    "# data/latest.json = smaller file for development\n",
    "filename = \"data/timeline\"\n",
    "\n",
    "# How many days of most recent data to display?\n",
    "ndays = 61\n",
    "\n",
    "# the useful Covid data is in the named element 'Data'\n",
    "# so create a DataFrame from only that element.\n",
    "with open(filename, 'r') as f:\n",
    "    all_data = json.load(f)\n",
    "\n",
    "covid = pd.DataFrame.from_records(all_data['Data'])\n",
    "\n",
    "# keep only recent data\n",
    "if 0 < ndays < len(covid):\n",
    "    covid = covid[-ndays:]\n",
    "\n",
    "# convert string date to Timestamp object\n",
    "covid['Date'] = pd.to_datetime(covid['Date'])\n",
    "# convert Timestamp to python date, save it as a new column\n",
    "covid['date'] = covid['Date'].transform(pd.Timestamp.date)\n",
    "\n",
    "# describe the data\n",
    "print(f\"Dataset has {len(covid):,d} records\")\n",
    "print(f\"Start date  {covid['Date'].min():%F}\")\n",
    "print(f\"End date    {covid['Date'].max():%F}\")\n",
    "print()\n",
    "covid.info()"
   ],
   "execution_count": 4,
   "outputs": [
    {
     "output_type": "stream",
     "name": "stdout",
     "text": [
      "Dataset has 75 records\nStart date  2021-02-27\nEnd date    2021-05-12\n\n<class 'pandas.core.frame.DataFrame'>\nRangeIndex: 75 entries, 422 to 496\nData columns (total 10 columns):\n #   Column           Non-Null Count  Dtype         \n---  ------           --------------  -----         \n 0   Date             75 non-null     datetime64[ns]\n 1   NewConfirmed     75 non-null     int64         \n 2   NewRecovered     75 non-null     int64         \n 3   NewHospitalized  75 non-null     int64         \n 4   NewDeaths        75 non-null     int64         \n 5   Confirmed        75 non-null     int64         \n 6   Recovered        75 non-null     int64         \n 7   Hospitalized     75 non-null     int64         \n 8   Deaths           75 non-null     int64         \n 9   date             75 non-null     object        \ndtypes: datetime64[ns](1), int64(8), object(1)\nmemory usage: 6.0+ KB\n"
     ]
    }
   ]
  },
  {
   "cell_type": "code",
   "metadata": {
    "colab": {
     "base_uri": "https://localhost:8080/",
     "height": 204
    },
    "id": "c8yB3htDk_Ia",
    "outputId": "77fe6779-ceb8-4930-8eb9-ffc08553f627"
   },
   "source": [
    "covid.head(3)"
   ],
   "execution_count": 4,
   "outputs": [
    {
     "output_type": "execute_result",
     "data": {
      "text/plain": [
       "          Date  NewConfirmed  NewRecovered  NewHospitalized  NewDeaths  \\\n",
       "437 2021-03-14           170            68              102          0   \n",
       "438 2021-03-15            78            80               -3          1   \n",
       "439 2021-03-16           149            65               84          0   \n",
       "\n",
       "     Confirmed  Recovered  Hospitalized  Deaths        date  \n",
       "437      26927      26154           687      86  2021-03-14  \n",
       "438      27005      26234           684      87  2021-03-15  \n",
       "439      27154      26299           768      87  2021-03-16  "
      ],
      "text/html": "<div>\n<style scoped>\n    .dataframe tbody tr th:only-of-type {\n        vertical-align: middle;\n    }\n\n    .dataframe tbody tr th {\n        vertical-align: top;\n    }\n\n    .dataframe thead th {\n        text-align: right;\n    }\n</style>\n<table border=\"1\" class=\"dataframe\">\n  <thead>\n    <tr style=\"text-align: right;\">\n      <th></th>\n      <th>Date</th>\n      <th>NewConfirmed</th>\n      <th>NewRecovered</th>\n      <th>NewHospitalized</th>\n      <th>NewDeaths</th>\n      <th>Confirmed</th>\n      <th>Recovered</th>\n      <th>Hospitalized</th>\n      <th>Deaths</th>\n      <th>date</th>\n    </tr>\n  </thead>\n  <tbody>\n    <tr>\n      <th>437</th>\n      <td>2021-03-14</td>\n      <td>170</td>\n      <td>68</td>\n      <td>102</td>\n      <td>0</td>\n      <td>26927</td>\n      <td>26154</td>\n      <td>687</td>\n      <td>86</td>\n      <td>2021-03-14</td>\n    </tr>\n    <tr>\n      <th>438</th>\n      <td>2021-03-15</td>\n      <td>78</td>\n      <td>80</td>\n      <td>-3</td>\n      <td>1</td>\n      <td>27005</td>\n      <td>26234</td>\n      <td>684</td>\n      <td>87</td>\n      <td>2021-03-15</td>\n    </tr>\n    <tr>\n      <th>439</th>\n      <td>2021-03-16</td>\n      <td>149</td>\n      <td>65</td>\n      <td>84</td>\n      <td>0</td>\n      <td>27154</td>\n      <td>26299</td>\n      <td>768</td>\n      <td>87</td>\n      <td>2021-03-16</td>\n    </tr>\n  </tbody>\n</table>\n</div>"
     },
     "metadata": {},
     "execution_count": 4
    }
   ]
  },
  {
   "cell_type": "code",
   "execution_count": 5,
   "metadata": {},
   "outputs": [
    {
     "output_type": "execute_result",
     "data": {
      "text/plain": [
       "          Date  NewConfirmed  NewRecovered  NewHospitalized  NewDeaths  \\\n",
       "494 2021-05-10          1630          1603                5         22   \n",
       "495 2021-05-11          1919          1829               59         31   \n",
       "496 2021-05-12          1983          2006              -57         34   \n",
       "\n",
       "     Confirmed  Recovered  Hospitalized  Deaths        date  \n",
       "494      85005      55208         29376     421  2021-05-10  \n",
       "495      86924      57037         29435     452  2021-05-11  \n",
       "496      88907      59043         29378     486  2021-05-12  "
      ],
      "text/html": "<div>\n<style scoped>\n    .dataframe tbody tr th:only-of-type {\n        vertical-align: middle;\n    }\n\n    .dataframe tbody tr th {\n        vertical-align: top;\n    }\n\n    .dataframe thead th {\n        text-align: right;\n    }\n</style>\n<table border=\"1\" class=\"dataframe\">\n  <thead>\n    <tr style=\"text-align: right;\">\n      <th></th>\n      <th>Date</th>\n      <th>NewConfirmed</th>\n      <th>NewRecovered</th>\n      <th>NewHospitalized</th>\n      <th>NewDeaths</th>\n      <th>Confirmed</th>\n      <th>Recovered</th>\n      <th>Hospitalized</th>\n      <th>Deaths</th>\n      <th>date</th>\n    </tr>\n  </thead>\n  <tbody>\n    <tr>\n      <th>494</th>\n      <td>2021-05-10</td>\n      <td>1630</td>\n      <td>1603</td>\n      <td>5</td>\n      <td>22</td>\n      <td>85005</td>\n      <td>55208</td>\n      <td>29376</td>\n      <td>421</td>\n      <td>2021-05-10</td>\n    </tr>\n    <tr>\n      <th>495</th>\n      <td>2021-05-11</td>\n      <td>1919</td>\n      <td>1829</td>\n      <td>59</td>\n      <td>31</td>\n      <td>86924</td>\n      <td>57037</td>\n      <td>29435</td>\n      <td>452</td>\n      <td>2021-05-11</td>\n    </tr>\n    <tr>\n      <th>496</th>\n      <td>2021-05-12</td>\n      <td>1983</td>\n      <td>2006</td>\n      <td>-57</td>\n      <td>34</td>\n      <td>88907</td>\n      <td>59043</td>\n      <td>29378</td>\n      <td>486</td>\n      <td>2021-05-12</td>\n    </tr>\n  </tbody>\n</table>\n</div>"
     },
     "metadata": {},
     "execution_count": 5
    }
   ],
   "source": [
    "covid.tail(3)"
   ]
  },
  {
   "source": [
    "### Dates\n",
    "\n",
    "The 'Date' column in the DataFrame (created by reading a file) is a string using the American mm/dd/yyyy format.  We convert it to a Pandas Timestamp using `pd.to_datetime()`.  Pandas correctly infers the date format (as shown in the head and tail output).\n",
    " \n",
    "Optional named parameters to specify format are:\n",
    "dayfirst=False (default) which is applicable to this data.\n",
    "format=\"%m/%d/%y\" (strftime string) does not seem to be needed here.\n",
    "\n",
    "We then use the `Series.transform` method to transform TimeStamp objects\n",
    "to Python `datetime.date` objects, which make more sense here.\n",
    "\n",
    "**Date as Index Variable**    \n",
    "For a time series its better to use the dates or timestamps as index variable (instead of an arbitrary integer).  See README for more explanation.  I didn't do that here.\n",
    "\n",
    "### Line Plots of New Cases, Recovered Cases, and Hospitalization "
   ],
   "cell_type": "markdown",
   "metadata": {}
  },
  {
   "cell_type": "code",
   "metadata": {
    "colab": {
     "base_uri": "https://localhost:8080/",
     "height": 347
    },
    "id": "Kn3Sm6vik_Ia",
    "outputId": "80198147-0b46-40c2-fdbc-45115c53f95f"
   },
   "source": [
    "covid.plot.line(x='Date', \n",
    "                y=['NewConfirmed','NewHospitalized','NewRecovered'],\n",
    "                ylabel=\"Daily Cases\", title=\"Daily New Cases\")"
   ],
   "execution_count": 5,
   "outputs": [
    {
     "output_type": "execute_result",
     "data": {
      "text/plain": [
       "<AxesSubplot:title={'center':'Daily New Cases'}, xlabel='Date', ylabel='Daily Cases'>"
      ]
     },
     "metadata": {},
     "execution_count": 5
    }
   ]
  },
  {
   "cell_type": "markdown",
   "metadata": {
    "id": "6Cu1mmvik_Ib"
   },
   "source": [
    "## Daily Cases and Deaths in Separate Plots (subplot)\n",
    "\n",
    "Show daily cases and deaths in separate plots, since their magnitudes differ greatly.\n",
    "\n",
    "This works on my computer using jupyter core 4.7.0, jupyter-notebook 5.2.2, ipython 7.15.1, and matplotlib 3.3.3.\n",
    "But Google Colab raises an error about illegal date values on x-axis.  "
   ]
  },
  {
   "cell_type": "code",
   "metadata": {
    "colab": {
     "base_uri": "https://localhost:8080/",
     "height": 1000
    },
    "id": "qA115zs6k_Ib",
    "outputId": "066224a8-3b07-4bf7-a02c-8788055d22e8"
   },
   "source": [
    "def ma(column_name: str, days=5):\n",
    "    \"\"\"Compute the moving average for data in a given column of covid data.\n",
    "    \n",
    "    Returns:\n",
    "    A series containing the moving average.\n",
    "    \"\"\"\n",
    "    return covid[column_name].rolling(window=days, min_periods=1).mean()\n",
    "\n",
    "# tick frequency\n",
    "xticks = matplotlib.dates.WeekdayLocator(interval=1)\n",
    "\n",
    "fig, (plt1, plt2) = plt.subplots(nrows=2, sharex=True, figsize=[10,8])\n",
    "# Remove axis_date() to fix error when run in Google Colab\n",
    "#plt1.xaxis_date()\n",
    "#covid['AvgConfirmed'] = ma('NewConfirmed')\n",
    "#covid.plot.line(ax=plt1, y='AvgConfirmed', color='g')\n",
    "covid.plot.bar(ax=plt1, x='date', y='NewConfirmed', legend=False, color='blue')\n",
    "plt1.grid(True, axis='y')\n",
    "plt1.set_title(\"Daily Confirmed Cases\")\n",
    "\n",
    "covid.plot.bar(ax=plt2, x='date', y='NewDeaths', legend=False, color='gray')\n",
    "plt2.set_title(\"Daily Deaths\")\n",
    "plt2.xaxis.set_major_locator(xticks)\n",
    "##plt2.xaxis.set_major_formatter(date_format)  # dates are wrong"
   ],
   "execution_count": 3,
   "outputs": []
  },
  {
   "source": [
    "### Moving Averages\n",
    "\n",
    "Compute a 5-day simple moving average of new cases (NewConfirmed) and new deaths. To avoid \"NA\" values for the first few days, allow a smaller window to be used when there isn't enough data. The code uses the `Series.rolling()` method.\n",
    "\n",
    "Originally I used a 7-day moving average, but it smoothes the rapidly changing trend too much.\n"
   ],
   "cell_type": "markdown",
   "metadata": {
    "id": "aWUQhy6Uk_Ic"
   }
  },
  {
   "cell_type": "code",
   "execution_count": 5,
   "metadata": {},
   "outputs": [],
   "source": [
    "covid['MovingAverage'] = covid['NewConfirmed'].rolling(window=5, min_periods=1).mean()\n",
    "use_pandas_plot = False\n",
    "\n",
    "if use_pandas_plot:\n",
    "    # This uses the Pandas interface to Matplotlib, but only one plot shows.\n",
    "    ax = covid.plot(x='Date', y='NewConfirmed', ylabel=\"New Cases\", \n",
    "                    title='Daily New Covid Cases', kind='bar', color='gray')\n",
    "    covid.plot(x='Date', y='averageCases', kind='line', color='blue', ax=ax)\n",
    "else:\n",
    "    # Use matplotlib directly\n",
    "    plt.figure(figsize=[10,6])   # [width,height] in inches?\n",
    "    plt.title(\"Daily New Covid Cases\")\n",
    "    plt.bar(covid['Date'], covid['NewConfirmed'], color='gray')\n",
    "    plt.plot(covid['Date'], covid['MovingAverage'], color='blue')\n",
    "    plt.grid(True, axis='y')\n",
    "    plt.tight_layout()   # don't add padding to ends of y-axis\n",
    "    plt.show()\n"
   ]
  },
  {
   "cell_type": "code",
   "execution_count": 14,
   "metadata": {},
   "outputs": [],
   "source": [
    "column = 'NewDeaths'\n",
    "title = \"Daily New Covid Deaths\"\n",
    "covid['MovingAverage'] = covid[column].rolling(window=5, min_periods=1).mean()\n",
    "\n",
    "plt.figure(figsize=[10,6])   # [width,height] in hundreds of pixels\n",
    "plt.title(title)\n",
    "plt.bar(covid['Date'], covid[column], color='gray')\n",
    "plt.plot(covid['Date'], covid['MovingAverage'], color='red')\n",
    "plt.grid(True, axis='y')\n",
    "plt.tight_layout()\n",
    "plt.show()"
   ]
  },
  {
   "source": [
    "### Hospitalization using Multiple Y-Scales\n",
    "\n",
    "Good News? The number of *new* hospitizations is going down.    \n",
    "Or does it mean that the regular hospitals are full and new cases are either isolating at home or a hospitel?\n",
    "\n",
    "Bad News? If the number in hospital is increasing, then the new cases outnumber recovered and fatal cases.\n"
   ],
   "cell_type": "markdown",
   "metadata": {}
  },
  {
   "cell_type": "code",
   "execution_count": 6,
   "metadata": {},
   "outputs": [],
   "source": [
    "title = \"Total in Hospital (left) and New Hospital Cases (right)\"\n",
    "ax = covid.plot(figsize=[10,6],\n",
    "           x='Date', \n",
    "           y=['Hospitalized','NewHospitalized'], \n",
    "           ylabel='Total in Hospitals',\n",
    "           color=[\"blue\",\"green\"],\n",
    "           style=['-', '--'],    # poorly documented codes for line styles\n",
    "           secondary_y=['NewHospitalized'],\n",
    "           title=title\n",
    "           )\n",
    "# cludgy way of specifying label for right y-axis\n",
    "ax.right_ax.set_ylabel(\"New Hospitalizations\");"
   ]
  },
  {
   "source": [
    "This uses the Pandas interface to plot multiple series, but its cludgy.  \n",
    "Using Matplotlib directly provides more control and a more consistent programming interface.\n",
    "\n",
    "This StackOverflow post is a cleaner way to do it in Pandas:\n",
    "<https://stackoverflow.com/questions/14178194/python-pandas-plotting-options-for-multiple-lines>\n",
    "\n",
    "Even more cludgy: you can specify both line color and line style together\n",
    "```python\n",
    "style = ['b-', 'g--']\n",
    "```\n",
    "means the first series plot is solid blue, the second series in green dashed."
   ],
   "cell_type": "markdown",
   "metadata": {
    "tags": []
   }
  }
 ]
}