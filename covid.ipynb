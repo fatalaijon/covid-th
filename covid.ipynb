{
 "metadata": {
  "language_info": {
   "codemirror_mode": {
    "name": "ipython",
    "version": 3
   },
   "file_extension": ".py",
   "mimetype": "text/x-python",
   "name": "python",
   "nbconvert_exporter": "python",
   "pygments_lexer": "ipython3",
   "version": "3.6.9-final"
  },
  "orig_nbformat": 2,
  "kernelspec": {
   "name": "python3",
   "display_name": "Python 3.6.9 64-bit",
   "metadata": {
    "interpreter": {
     "hash": "31f2aee4e71d21fbe5cf8b01ff0e069b9275f58929596ceb00d14d90e3e16cd6"
    }
   }
  }
 },
 "nbformat": 4,
 "nbformat_minor": 2,
 "cells": [
  {
   "source": [
    "## Thailand Covid-19 Data\n",
    "\n",
    "This notebook uses data from the Thailand Department of Desease Control.\n",
    "The README for this repo contains the URLs.  \n",
    "To download all daily counts for cases and outcomes, use the URL\n",
    "<https://covid19.th-stat.com/api/open/timeline>.\n",
    "\n",
    "### (As Needed) Download the Dataset\n",
    "\n",
    "Run this only if you do not have up-to-date data or want a different dataset.  File is saved in a subdirectory named `data`.\n"
   ],
   "cell_type": "markdown",
   "metadata": {}
  },
  {
   "cell_type": "code",
   "execution_count": null,
   "metadata": {},
   "outputs": [],
   "source": [
    "# Use wget (standard Unix/Linux util) to download data file\n",
    "data_url = \"https://covid19.th-stat.com/api/open/timeline\"\n",
    "! [ -d data ] || mkdir data\n",
    "# -N use timestamps to compare files, -t number of retries\n",
    "! cd data && wget -N -t 5 $data_url"
   ]
  },
  {
   "source": [
    "### Read data from previously downloaded dataset.\n"
   ],
   "cell_type": "markdown",
   "metadata": {}
  },
  {
   "cell_type": "code",
   "execution_count": 60,
   "metadata": {},
   "outputs": [
    {
     "output_type": "stream",
     "name": "stdout",
     "text": [
      "Dataset has 60 records\nStart date  2021-03-03\nEnd date    2021-05-01\n<class 'pandas.core.frame.DataFrame'>\nRangeIndex: 60 entries, 426 to 485\nData columns (total 9 columns):\n #   Column           Non-Null Count  Dtype         \n---  ------           --------------  -----         \n 0   Date             60 non-null     datetime64[ns]\n 1   NewConfirmed     60 non-null     int64         \n 2   NewRecovered     60 non-null     int64         \n 3   NewHospitalized  60 non-null     int64         \n 4   NewDeaths        60 non-null     int64         \n 5   Confirmed        60 non-null     int64         \n 6   Recovered        60 non-null     int64         \n 7   Hospitalized     60 non-null     int64         \n 8   Deaths           60 non-null     int64         \ndtypes: datetime64[ns](1), int64(8)\nmemory usage: 4.3 KB\n"
     ]
    }
   ],
   "source": [
    "import pandas as pd\n",
    "import matplotlib\n",
    "import matplotlib.pyplot as plt\n",
    "import json\n",
    "# large file of all data since 1/1/2020\n",
    "#filename = \"data/timeline.json\"\n",
    "# latest.json = smaller file for development\n",
    "filename = \"data/timeline.json\"\n",
    "\n",
    "# the useful Covid data is in the named element 'Data'\n",
    "with open(filename, 'r') as f:\n",
    "    all_data = json.load(f)\n",
    "\n",
    "covid = pd.DataFrame.from_records(all_data['Data'])\n",
    "\n",
    "# keep only last 2 months\n",
    "covid = covid[-60:]\n",
    "\n",
    "# convert string date to datetime object\n",
    "covid['Date'] = pd.to_datetime(covid['Date'])\n",
    "\n",
    "# describe the data\n",
    "print(f\"Dataset has {len(covid)} records\")\n",
    "print(f\"Start date  {covid['Date'].min():%F}\")\n",
    "print(f\"End date    {covid['Date'].max():%F}\")\n",
    "covid.info()"
   ]
  },
  {
   "cell_type": "code",
   "execution_count": 55,
   "metadata": {},
   "outputs": [
    {
     "output_type": "execute_result",
     "data": {
      "text/plain": [
       "          Date  NewConfirmed  NewRecovered  NewHospitalized  NewDeaths  \\\n",
       "426 2021-03-03            35            63              -28          0   \n",
       "427 2021-03-04            54            79              -26          1   \n",
       "428 2021-03-05            79            79                0          0   \n",
       "429 2021-03-06            64            45               19          0   \n",
       "430 2021-03-07            65            58                7          0   \n",
       "\n",
       "     Confirmed  Recovered  Hospitalized  Deaths  \n",
       "426      26108      25483           541      84  \n",
       "427      26162      25562           515      85  \n",
       "428      26241      25641           515      85  \n",
       "429      26305      25686           534      85  \n",
       "430      26370      25744           541      85  "
      ],
      "text/html": "<div>\n<style scoped>\n    .dataframe tbody tr th:only-of-type {\n        vertical-align: middle;\n    }\n\n    .dataframe tbody tr th {\n        vertical-align: top;\n    }\n\n    .dataframe thead th {\n        text-align: right;\n    }\n</style>\n<table border=\"1\" class=\"dataframe\">\n  <thead>\n    <tr style=\"text-align: right;\">\n      <th></th>\n      <th>Date</th>\n      <th>NewConfirmed</th>\n      <th>NewRecovered</th>\n      <th>NewHospitalized</th>\n      <th>NewDeaths</th>\n      <th>Confirmed</th>\n      <th>Recovered</th>\n      <th>Hospitalized</th>\n      <th>Deaths</th>\n    </tr>\n  </thead>\n  <tbody>\n    <tr>\n      <th>426</th>\n      <td>2021-03-03</td>\n      <td>35</td>\n      <td>63</td>\n      <td>-28</td>\n      <td>0</td>\n      <td>26108</td>\n      <td>25483</td>\n      <td>541</td>\n      <td>84</td>\n    </tr>\n    <tr>\n      <th>427</th>\n      <td>2021-03-04</td>\n      <td>54</td>\n      <td>79</td>\n      <td>-26</td>\n      <td>1</td>\n      <td>26162</td>\n      <td>25562</td>\n      <td>515</td>\n      <td>85</td>\n    </tr>\n    <tr>\n      <th>428</th>\n      <td>2021-03-05</td>\n      <td>79</td>\n      <td>79</td>\n      <td>0</td>\n      <td>0</td>\n      <td>26241</td>\n      <td>25641</td>\n      <td>515</td>\n      <td>85</td>\n    </tr>\n    <tr>\n      <th>429</th>\n      <td>2021-03-06</td>\n      <td>64</td>\n      <td>45</td>\n      <td>19</td>\n      <td>0</td>\n      <td>26305</td>\n      <td>25686</td>\n      <td>534</td>\n      <td>85</td>\n    </tr>\n    <tr>\n      <th>430</th>\n      <td>2021-03-07</td>\n      <td>65</td>\n      <td>58</td>\n      <td>7</td>\n      <td>0</td>\n      <td>26370</td>\n      <td>25744</td>\n      <td>541</td>\n      <td>85</td>\n    </tr>\n  </tbody>\n</table>\n</div>"
     },
     "metadata": {},
     "execution_count": 55
    }
   ],
   "source": [
    "covid.head()"
   ]
  },
  {
   "cell_type": "code",
   "execution_count": 56,
   "metadata": {},
   "outputs": [
    {
     "output_type": "execute_result",
     "data": {
      "text/plain": [
       "<AxesSubplot:title={'center':'Daily New Cases'}, xlabel='Date', ylabel='Daily Cases'>"
      ]
     },
     "metadata": {},
     "execution_count": 56
    }
   ],
   "source": [
    "covid.plot.line(x='Date', y=['NewConfirmed','NewHospitalized','NewRecovered'], ylabel=\"Daily Cases\", title=\"Daily New Cases\")"
   ]
  },
  {
   "source": [
    "Plot daily cases and deaths in different plots, since their magnitude differs greatly."
   ],
   "cell_type": "markdown",
   "metadata": {}
  },
  {
   "cell_type": "code",
   "execution_count": 63,
   "metadata": {},
   "outputs": [],
   "source": [
    "fig, (plt1, plt2) = plt.subplots(nrows=2, sharex=True)\n",
    "#dates = covid['Date']\n",
    "#xticks = [dates[0], dates[len(dates)//2], dates[len(dates)-1]]\n",
    "covid.plot.bar(ax=plt1, x='Date', y='NewConfirmed')\n",
    "plt1.set_title(\"Daily Confirmed Cases\")\n",
    "\n",
    "covid.plot.bar(ax=plt2, x='Date', y='NewDeaths')\n",
    "plt2.set_title(\"Daily Deaths\")\n",
    "\n",
    "plt2.xaxis.set_major_formatter(matplotlib.dates.DateFormatter(\"%F\"))"
   ]
  },
  {
   "cell_type": "code",
   "execution_count": null,
   "metadata": {},
   "outputs": [],
   "source": []
  }
 ]
}