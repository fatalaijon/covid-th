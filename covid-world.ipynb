{
 "metadata": {
  "language_info": {
   "codemirror_mode": {
    "name": "ipython",
    "version": 3
   },
   "file_extension": ".py",
   "mimetype": "text/x-python",
   "name": "python",
   "nbconvert_exporter": "python",
   "pygments_lexer": "ipython3",
   "version": "3.6.9-final"
  },
  "orig_nbformat": 2,
  "kernelspec": {
   "name": "python3",
   "display_name": "Python 3.6.9 64-bit",
   "metadata": {
    "interpreter": {
     "hash": "31f2aee4e71d21fbe5cf8b01ff0e069b9275f58929596ceb00d14d90e3e16cd6"
    }
   }
  }
 },
 "nbformat": 4,
 "nbformat_minor": 2,
 "cells": [
  {
   "source": [
    "## World and Country Covid-19 Data\n",
    "\n",
    "This notebook shows Covid-19 case data from Our World in Data.  They offer several datasets and different formats.\n",
    "\n",
    "The data used here is from JHU and has 1 record for each country and date.  The stable URL is    \n",
    "<http://covid.ourworldindata.org/data/jhu/full_data.csv>\n",
    "\n",
    "\n",
    "### Download the Covid Dataset (As Needed) \n",
    "\n",
    "Run this cell only if you do not have up-to-date data or want a different dataset.  "
   ],
   "cell_type": "markdown",
   "metadata": {}
  },
  {
   "cell_type": "code",
   "execution_count": null,
   "metadata": {},
   "outputs": [],
   "source": [
    "# Use wget (standard Unix/Linux util) to download data file\n",
    "data_url = \"http://covid.ourworldindata.org/data/jhu/full_data.csv\"\n",
    "! [ -d data ] || mkdir data\n",
    "# -N use timestamps for conditional get, -nv non-verbose, -t retries\n",
    "! cd data && wget -nv -N -t 5  $data_url"
   ]
  },
  {
   "source": [
    "### Read the Data and Describe It\n",
    "\n",
    "Use the date field as index in DataFrame, but also keep 'date' attribute."
   ],
   "cell_type": "markdown",
   "metadata": {}
  },
  {
   "cell_type": "code",
   "execution_count": 2,
   "metadata": {},
   "outputs": [
    {
     "output_type": "stream",
     "name": "stdout",
     "text": [
      "Dataset has 84472 records\nStart date   2020-02-24\nEnd date     2021-05-07\n<class 'pandas.core.frame.DataFrame'>\nDatetimeIndex: 84472 entries, 2020-02-24 to 2021-05-07\nData columns (total 10 columns):\n #   Column           Non-Null Count  Dtype         \n---  ------           --------------  -----         \n 0   date             84472 non-null  datetime64[ns]\n 1   location         84472 non-null  object        \n 2   new_cases        84463 non-null  float64       \n 3   new_deaths       74903 non-null  float64       \n 4   total_cases      84465 non-null  float64       \n 5   total_deaths     74745 non-null  float64       \n 6   weekly_cases     83462 non-null  float64       \n 7   weekly_deaths    83462 non-null  float64       \n 8   biweekly_cases   82069 non-null  float64       \n 9   biweekly_deaths  82069 non-null  float64       \ndtypes: datetime64[ns](1), float64(8), object(1)\nmemory usage: 7.1+ MB\n"
     ]
    }
   ],
   "source": [
    "import numpy as np\n",
    "import pandas as pd\n",
    "import matplotlib.pyplot as plt\n",
    "\n",
    "# Read the data and show basic info\n",
    "\n",
    "covid = pd.read_csv('data/full_data.csv', \n",
    "                     parse_dates=['date'])\n",
    "# use the 'date' as index\n",
    "covid.index = pd.to_datetime(covid['date'])\n",
    "\n",
    "# describe the data\n",
    "def asdate(timestamp):\n",
    "    s = str(timestamp)\n",
    "    k = s.index(\"T\")\n",
    "    return s[0:k] if k > 0 else s\n",
    "print(f\"Dataset has {len(covid)} records\")\n",
    "print(f\"Start date  \", asdate(covid.index.values[0]))\n",
    "print(f\"End date    \", asdate(covid.index.values[-1]))\n",
    "covid.info()"
   ]
  },
  {
   "source": [
    "### Create Plots for a Single Country\n",
    "\n",
    "Specify the country name as in the \"location\" attribute of dataset,\n",
    "and the number of days to show in plot.\n",
    "\n",
    "The daily values are noisy.  The JHU dataset contains `weekly_` attributes that sum the last 7 days of data. Compute and show moving\n",
    "averages from those (instead of directly computing moving averages from daily values)."
   ],
   "cell_type": "markdown",
   "metadata": {}
  },
  {
   "source": [
    "# Create a dataset for a single country & limit date range\n",
    "# for USA use country = 'United States'\n",
    "country = 'India'\n",
    "\n",
    "# Number of most recent days to show in plot\n",
    "ndays = 150\n",
    "\n",
    "cdata = covid[covid['location']==country][-ndays:]\n",
    "# 'new_cases', 'new_deaths' are very noisy\n",
    "# 'weekly_cases', 'weekly_deaths' are smoother\n",
    "plt.figure(figsize=[10,6])   # [width,height] in inches?\n",
    "plt.title(\"Daily Covid Cases for \"+country)\n",
    "plt.bar(cdata.index, cdata['new_cases'], color='gray')\n",
    "plt.plot(cdata['weekly_cases']/7, color='blue')\n",
    "plt.grid(axis='y')\n",
    "plt.tight_layout()   # don't add padding to ends of y-axis\n",
    "plt.show()\n"
   ],
   "cell_type": "code",
   "metadata": {},
   "execution_count": 3,
   "outputs": []
  },
  {
   "cell_type": "code",
   "execution_count": 4,
   "metadata": {},
   "outputs": [],
   "source": [
    "plt.figure(figsize=[10,6])   # [width,height] in inches?\n",
    "plt.title(\"Covid Deaths for \"+country)\n",
    "plt.bar(cdata.index, cdata['new_deaths'], color='gray')\n",
    "plt.plot(cdata['weekly_deaths']/7, color='blue')\n",
    "plt.grid(axis='y')\n",
    "plt.tight_layout()   # don't add padding to ends of y-axis\n",
    "plt.show()"
   ]
  },
  {
   "cell_type": "code",
   "execution_count": null,
   "metadata": {},
   "outputs": [],
   "source": []
  }
 ]
}