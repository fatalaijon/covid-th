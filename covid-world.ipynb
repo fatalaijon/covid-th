{
 "metadata": {
  "language_info": {
   "codemirror_mode": {
    "name": "ipython",
    "version": 3
   },
   "file_extension": ".py",
   "mimetype": "text/x-python",
   "name": "python",
   "nbconvert_exporter": "python",
   "pygments_lexer": "ipython3",
   "version": "3.6.9"
  },
  "orig_nbformat": 2,
  "kernelspec": {
   "name": "python3",
   "display_name": "Python 3",
   "language": "python"
  }
 },
 "nbformat": 4,
 "nbformat_minor": 2,
 "cells": [
  {
   "source": [
    "## World and Country Covid-19 Data\n",
    "\n",
    "This notebook shows Covid-19 case data from Our World in Data.  They offer several datasets and different formats.\n",
    "\n",
    "The data used here is from JHU and has 1 record for each country and date.  The stable URL is    \n",
    "<http://covid.ourworldindata.org/data/jhu/full_data.csv>\n",
    "\n",
    "\n",
    "### Download the Covid Dataset (As Needed) \n",
    "\n",
    "Run this cell only if you do not have up-to-date data or want a different dataset.  "
   ],
   "cell_type": "markdown",
   "metadata": {}
  },
  {
   "cell_type": "code",
   "execution_count": 1,
   "metadata": {},
   "outputs": [
    {
     "output_type": "stream",
     "name": "stdout",
     "text": [
      "Last-modified header missing -- time-stamps turned off.\n2021-05-27 11:51:42 URL:http://covid.ourworldindata.org/data/jhu/full_data.csv [5787261] -> \"full_data.csv\" [1]\n"
     ]
    }
   ],
   "source": [
    "# Use wget to download the data file\n",
    "# Unfortunately, Github doesn't use HTTP Last-modified header,\n",
    "# so wget will always download the file, even if its identical to local copy.\n",
    "data_url = \"http://covid.ourworldindata.org/data/jhu/full_data.csv\"\n",
    "! [ -d data ] || mkdir data\n",
    "# -N use timestamps for conditional get, -nv non-verbose, -t retries\n",
    "! cd data && wget -nv -N -t 5  $data_url"
   ]
  },
  {
   "source": [
    "### Read the Data and Describe It (Required in order to run other cells)\n",
    "\n",
    "Use the date field as index in DataFrame, but also keep 'date' attribute."
   ],
   "cell_type": "markdown",
   "metadata": {}
  },
  {
   "cell_type": "code",
   "execution_count": 2,
   "metadata": {},
   "outputs": [
    {
     "output_type": "stream",
     "name": "stdout",
     "text": [
      "Dataset has 88,543 records\nStart date   2020-02-24\nEnd date     2021-05-25\n"
     ]
    }
   ],
   "source": [
    "import numpy as np\n",
    "import pandas as pd\n",
    "import matplotlib.pyplot as plt\n",
    "\n",
    "# Read the data and show basic info\n",
    "\n",
    "covid = pd.read_csv('data/full_data.csv', \n",
    "                     parse_dates=['date'])\n",
    "# use the 'date' as index\n",
    "covid.index = pd.to_datetime(covid['date'])\n",
    "\n",
    "# describe the data\n",
    "def asdate(timestamp):\n",
    "    s = str(timestamp)\n",
    "    k = s.index(\"T\")\n",
    "    return s[0:k] if k > 0 else s\n",
    "print(f\"Dataset has {len(covid):,d} records\")\n",
    "print(f\"Start date  \", asdate(covid.index.values[0]))\n",
    "print(f\"End date    \", asdate(covid.index.values[-1]))\n",
    "# Show columns in DataFrame, for development\n",
    "#print(\"\")\n",
    "#covid.info()"
   ]
  },
  {
   "source": [
    "### Create Plots for a Single Country\n",
    "\n",
    "Specify the country name as in the \"location\" attribute of dataset,\n",
    "and the number of days to show in plot.\n",
    "\n",
    "The daily values are noisy.  The JHU dataset contains `weekly_` attributes that sum the last 7 days of data. Compute and show moving\n",
    "averages from those (instead of directly computing moving averages from daily values)."
   ],
   "cell_type": "markdown",
   "metadata": {}
  },
  {
   "source": [
    "# Specify the name of country for date.\n",
    "# For USA use:\n",
    "# country = 'United States'\n",
    "country = 'Australia'\n",
    "\n",
    "# Number of most recent days to show in plot\n",
    "ndays = 150\n",
    "\n",
    "cdata = covid[covid['location']==country][-ndays:]\n",
    "# 'new_cases', 'new_deaths' are very noisy\n",
    "# 'weekly_cases', 'weekly_deaths' are smoother\n",
    "plt.figure(figsize=[10,6])   # [width,height] in inches?\n",
    "plt.title(\"Daily Covid Cases in \"+country)\n",
    "plt.bar(cdata.index, cdata['new_cases'], color='gray')\n",
    "plt.plot(cdata['weekly_cases']/7, color='blue')\n",
    "plt.grid(axis='y')\n",
    "plt.tight_layout()   # don't add padding to ends of y-axis\n",
    "plt.show()\n"
   ],
   "cell_type": "code",
   "metadata": {},
   "execution_count": 3,
   "outputs": []
  },
  {
   "cell_type": "code",
   "execution_count": 4,
   "metadata": {},
   "outputs": [],
   "source": [
    "# Plot of daily deaths\n",
    "plt.figure(figsize=[10,6])   # [width,height] in inches?\n",
    "plt.title(\"Covid Deaths in \"+country)\n",
    "plt.bar(cdata.index, cdata['new_deaths'], color='gray')\n",
    "plt.plot(cdata['weekly_deaths']/7, color='red')\n",
    "plt.grid(axis='y')\n",
    "plt.tight_layout()   # don't add padding to ends of y-axis\n",
    "plt.show()"
   ]
  },
  {
   "source": [
    "## Vaccinations\n",
    "\n",
    "Download the `vaccinations.csv` file as needed:"
   ],
   "cell_type": "markdown",
   "metadata": {}
  },
  {
   "cell_type": "code",
   "execution_count": 4,
   "metadata": {},
   "outputs": [
    {
     "output_type": "stream",
     "name": "stdout",
     "text": [
      "Last-modified header missing -- time-stamps turned off.\n2021-05-27 12:06:02 URL:http://covid.ourworldindata.org/data/vaccinations/vaccinations.csv [1363789] -> \"vaccinations.csv\" [1]\n"
     ]
    }
   ],
   "source": [
    "vaccine_url = \"http://covid.ourworldindata.org/data/vaccinations/vaccinations.csv\"\n",
    "! [ -d data ] || mkdir data\n",
    "# -N use timestamps for conditional get, -nv non-verbose, -t retries\n",
    "! cd data && wget -nv -N -t 5  $vaccine_url"
   ]
  },
  {
   "source": [
    "Read the data and describe it.  There is one line for each country and date, resulting in thousands of records."
   ],
   "cell_type": "markdown",
   "metadata": {}
  },
  {
   "cell_type": "code",
   "execution_count": 9,
   "metadata": {},
   "outputs": [
    {
     "output_type": "stream",
     "name": "stdout",
     "text": [
      "Dataset has 22,196 records\n\n<class 'pandas.core.frame.DataFrame'>\nRangeIndex: 22196 entries, 0 to 22195\nData columns (total 12 columns):\n #   Column                               Non-Null Count  Dtype         \n---  ------                               --------------  -----         \n 0   location                             22196 non-null  object        \n 1   iso_code                             22196 non-null  object        \n 2   date                                 22196 non-null  datetime64[ns]\n 3   total_vaccinations                   13374 non-null  float64       \n 4   people_vaccinated                    12615 non-null  float64       \n 5   people_fully_vaccinated              9900 non-null   float64       \n 6   daily_vaccinations_raw               11396 non-null  float64       \n 7   daily_vaccinations                   21970 non-null  float64       \n 8   total_vaccinations_per_hundred       13374 non-null  float64       \n 9   people_vaccinated_per_hundred        12615 non-null  float64       \n 10  people_fully_vaccinated_per_hundred  9900 non-null   float64       \n 11  daily_vaccinations_per_million       21970 non-null  float64       \ndtypes: datetime64[ns](1), float64(9), object(2)\nmemory usage: 2.0+ MB\n"
     ]
    }
   ],
   "source": [
    "# Read the data and describe it.\n",
    "import numpy as np\n",
    "import pandas as pd\n",
    "import matplotlib.pyplot as plt\n",
    "\n",
    "# Read the data and show basic info\n",
    "\n",
    "vacc_all = pd.read_csv('data/vaccinations.csv', \n",
    "                     parse_dates=['date'])\n",
    "\n",
    "# describe the data\n",
    "print(f\"Dataset has {len(vacc_all):,d} records\")\n",
    "print(\"\")\n",
    "vacc_all.info()"
   ]
  },
  {
   "source": [
    "Select data for one country, and use the date as index.   \n",
    "For Thailand there is not much data before 1 April, so I also select a range using date."
   ],
   "cell_type": "markdown",
   "metadata": {}
  },
  {
   "cell_type": "code",
   "execution_count": 13,
   "metadata": {},
   "outputs": [
    {
     "output_type": "stream",
     "name": "stderr",
     "text": [
      "ipykernel_launcher:7: SettingWithCopyWarning: \nA value is trying to be set on a copy of a slice from a DataFrame.\nTry using .loc[row_indexer,col_indexer] = value instead\n\nSee the caveats in the documentation: https://pandas.pydata.org/pandas-docs/stable/user_guide/indexing.html#returning-a-view-versus-a-copy\n"
     ]
    },
    {
     "output_type": "execute_result",
     "data": {
      "text/plain": [
       "<AxesSubplot:title={'center':'Vaccinations in Hong Kong vs time'}, xlabel='date', ylabel='People Vaccinated'>"
      ]
     },
     "metadata": {},
     "execution_count": 13
    }
   ],
   "source": [
    "country = 'Hong Kong'\n",
    "vacc_country = vacc_all[vacc_all['location']==country]\n",
    "vacc_country.index = vacc_country['date']\n",
    "\n",
    "# Convert units to millions of people so y-axis is easier to read\n",
    "for column in ['people_vaccinated', 'people_fully_vaccinated']:\n",
    "    vacc_country[column] = vacc_country[column]/1000000\n",
    "\n",
    "# use of string to select timestamps from Pandas User Guide (online)\n",
    "# section titled \"Selection by label\"\n",
    "vacc = vacc_country.loc['20210401':]\n",
    "\n",
    "vacc.plot.line(x='date', \n",
    "               y=['people_vaccinated', 'people_fully_vaccinated'],\n",
    "               ylabel='People Vaccinated', \n",
    "               title=f'Vaccinations in {country} vs time',\n",
    "               grid=True)\n"
   ]
  },
  {
   "cell_type": "code",
   "execution_count": 14,
   "metadata": {},
   "outputs": [
    {
     "output_type": "stream",
     "name": "stderr",
     "text": [
      "ipykernel_launcher:1: SettingWithCopyWarning: \nA value is trying to be set on a copy of a slice from a DataFrame.\nTry using .loc[row_indexer,col_indexer] = value instead\n\nSee the caveats in the documentation: https://pandas.pydata.org/pandas-docs/stable/user_guide/indexing.html#returning-a-view-versus-a-copy\n"
     ]
    }
   ],
   "source": [
    "vacc['vacc_per_million'] = vacc['daily_vaccinations_per_million'].rolling(window=7,min_periods=1).mean()\n",
    "plt.figure(figsize=[10,6])\n",
    "plt.title(\"Daily vaccinations (bar) and per million people\")\n",
    "plt.bar(vacc['date'], vacc['daily_vaccinations'], color='gray')\n",
    "plt.plot(vacc['vacc_per_million'], color='blue')\n",
    "plt.grid(axis='y')\n",
    "plt.tight_layout()"
   ]
  },
  {
   "cell_type": "code",
   "execution_count": null,
   "metadata": {},
   "outputs": [],
   "source": []
  }
 ]
}