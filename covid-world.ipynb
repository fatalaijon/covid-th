{
 "metadata": {
  "language_info": {
   "codemirror_mode": {
    "name": "ipython",
    "version": 3
   },
   "file_extension": ".py",
   "mimetype": "text/x-python",
   "name": "python",
   "nbconvert_exporter": "python",
   "pygments_lexer": "ipython3",
   "version": "3.6.9"
  },
  "orig_nbformat": 2,
  "kernelspec": {
   "name": "python3",
   "display_name": "Python 3",
   "language": "python"
  }
 },
 "nbformat": 4,
 "nbformat_minor": 2,
 "cells": [
  {
   "source": [
    "## World and Country Covid-19 Data\n",
    "\n",
    "This notebook shows Covid-19 case data from Our World in Data.  They offer several datasets and different formats.\n",
    "\n",
    "The data used here is from JHU and has 1 record for each country and date.  The stable URL is    \n",
    "<http://covid.ourworldindata.org/data/jhu/full_data.csv>\n",
    "\n",
    "\n",
    "### Download the Covid Dataset (As Needed) \n",
    "\n",
    "Run this cell only if you do not have up-to-date data or want a different dataset.  "
   ],
   "cell_type": "markdown",
   "metadata": {}
  },
  {
   "cell_type": "code",
   "execution_count": 6,
   "metadata": {},
   "outputs": [
    {
     "output_type": "stream",
     "name": "stdout",
     "text": [
      "Last-modified header missing -- time-stamps turned off.\n2021-05-13 13:04:24 URL:http://covid.ourworldindata.org/data/jhu/full_data.csv [5579541] -> \"full_data.csv\" [1]\n"
     ]
    }
   ],
   "source": [
    "# Use wget to download the data file\n",
    "# Unfortunately, Github doesn't use HTTP Last-modified header,\n",
    "# so wget will always download the file, even if its identical to local copy.\n",
    "data_url = \"http://covid.ourworldindata.org/data/jhu/full_data.csv\"\n",
    "! [ -d data ] || mkdir data\n",
    "# -N use timestamps for conditional get, -nv non-verbose, -t retries\n",
    "! cd data && wget -nv -N -t 5  $data_url"
   ]
  },
  {
   "source": [
    "### Read the Data and Describe It (Required in order to run other cells)\n",
    "\n",
    "Use the date field as index in DataFrame, but also keep 'date' attribute."
   ],
   "cell_type": "markdown",
   "metadata": {}
  },
  {
   "cell_type": "code",
   "execution_count": 7,
   "metadata": {},
   "outputs": [
    {
     "output_type": "stream",
     "name": "stdout",
     "text": [
      "Dataset has 85467 records\nStart date   2020-02-24\nEnd date     2021-05-12\n<class 'pandas.core.frame.DataFrame'>\nDatetimeIndex: 85467 entries, 2020-02-24 to 2021-05-12\nData columns (total 10 columns):\n #   Column           Non-Null Count  Dtype         \n---  ------           --------------  -----         \n 0   date             85467 non-null  datetime64[ns]\n 1   location         85467 non-null  object        \n 2   new_cases        85458 non-null  float64       \n 3   new_deaths       75862 non-null  float64       \n 4   total_cases      85460 non-null  float64       \n 5   total_deaths     75704 non-null  float64       \n 6   weekly_cases     84457 non-null  float64       \n 7   weekly_deaths    84457 non-null  float64       \n 8   biweekly_cases   83064 non-null  float64       \n 9   biweekly_deaths  83064 non-null  float64       \ndtypes: datetime64[ns](1), float64(8), object(1)\nmemory usage: 7.2+ MB\n"
     ]
    }
   ],
   "source": [
    "import numpy as np\n",
    "import pandas as pd\n",
    "import matplotlib.pyplot as plt\n",
    "\n",
    "# Read the data and show basic info\n",
    "\n",
    "covid = pd.read_csv('data/full_data.csv', \n",
    "                     parse_dates=['date'])\n",
    "# use the 'date' as index\n",
    "covid.index = pd.to_datetime(covid['date'])\n",
    "\n",
    "# describe the data\n",
    "def asdate(timestamp):\n",
    "    s = str(timestamp)\n",
    "    k = s.index(\"T\")\n",
    "    return s[0:k] if k > 0 else s\n",
    "print(f\"Dataset has {len(covid)} records\")\n",
    "print(f\"Start date  \", asdate(covid.index.values[0]))\n",
    "print(f\"End date    \", asdate(covid.index.values[-1]))\n",
    "covid.info()"
   ]
  },
  {
   "source": [
    "### Create Plots for a Single Country\n",
    "\n",
    "Specify the country name as in the \"location\" attribute of dataset,\n",
    "and the number of days to show in plot.\n",
    "\n",
    "The daily values are noisy.  The JHU dataset contains `weekly_` attributes that sum the last 7 days of data. Compute and show moving\n",
    "averages from those (instead of directly computing moving averages from daily values)."
   ],
   "cell_type": "markdown",
   "metadata": {}
  },
  {
   "source": [
    "# Specify the name of country for date.\n",
    "# For USA use:\n",
    "# country = 'United States'\n",
    "country = 'India'\n",
    "\n",
    "# Number of most recent days to show in plot\n",
    "ndays = 150\n",
    "\n",
    "cdata = covid[covid['location']==country][-ndays:]\n",
    "# 'new_cases', 'new_deaths' are very noisy\n",
    "# 'weekly_cases', 'weekly_deaths' are smoother\n",
    "plt.figure(figsize=[10,6])   # [width,height] in inches?\n",
    "plt.title(\"Daily Covid Cases for \"+country)\n",
    "plt.bar(cdata.index, cdata['new_cases'], color='gray')\n",
    "plt.plot(cdata['weekly_cases']/7, color='blue')\n",
    "plt.grid(axis='y')\n",
    "plt.tight_layout()   # don't add padding to ends of y-axis\n",
    "plt.show()\n"
   ],
   "cell_type": "code",
   "metadata": {},
   "execution_count": 8,
   "outputs": []
  },
  {
   "cell_type": "code",
   "execution_count": 14,
   "metadata": {},
   "outputs": [],
   "source": [
    "# Plot of daily deaths\n",
    "plt.figure(figsize=[10,6])   # [width,height] in inches?\n",
    "plt.title(\"Covid Deaths for \"+country)\n",
    "plt.bar(cdata.index, cdata['new_deaths'], color='gray')\n",
    "plt.plot(cdata['weekly_deaths']/7, color='red')\n",
    "plt.grid(axis='y')\n",
    "plt.tight_layout()   # don't add padding to ends of y-axis\n",
    "plt.show()"
   ]
  },
  {
   "cell_type": "code",
   "execution_count": null,
   "metadata": {},
   "outputs": [],
   "source": []
  }
 ]
}